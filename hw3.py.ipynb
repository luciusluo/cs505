{
 "cells": [
  {
   "cell_type": "code",
   "execution_count": 50,
   "id": "248ab132",
   "metadata": {},
   "outputs": [],
   "source": [
    "import pandas as pd\n",
    "\n",
    "play_text_df = pd.read_csv(\"will_play_text.csv\", sep=';')\n",
    "play_text_df.columns = ['index', 'play', 'scene', 'scene2', 'character', 'text']\n",
    "grouped_text = play_text_df.groupby(by=['play'])"
   ]
  },
  {
   "cell_type": "code",
   "execution_count": 51,
   "id": "cb216dfd",
   "metadata": {},
   "outputs": [],
   "source": [
    "play_names = pd.read_csv(\"play_names.txt\").values.tolist()\n",
    "play_names = [play[0] for play in play_names]\n",
    "vocab = pd.read_csv(\"vocab.txt\").values.tolist()\n",
    "vocab = [v[0] for v in vocab]\n"
   ]
  },
  {
   "cell_type": "code",
   "execution_count": 56,
   "id": "7e1fb894",
   "metadata": {},
   "outputs": [
    {
     "data": {
      "text/html": [
       "<div>\n",
       "<style scoped>\n",
       "    .dataframe tbody tr th:only-of-type {\n",
       "        vertical-align: middle;\n",
       "    }\n",
       "\n",
       "    .dataframe tbody tr th {\n",
       "        vertical-align: top;\n",
       "    }\n",
       "\n",
       "    .dataframe thead th {\n",
       "        text-align: right;\n",
       "    }\n",
       "</style>\n",
       "<table border=\"1\" class=\"dataframe\">\n",
       "  <thead>\n",
       "    <tr style=\"text-align: right;\">\n",
       "      <th></th>\n",
       "      <th>index</th>\n",
       "      <th>play</th>\n",
       "      <th>scene</th>\n",
       "      <th>scene2</th>\n",
       "      <th>character</th>\n",
       "      <th>text</th>\n",
       "    </tr>\n",
       "  </thead>\n",
       "  <tbody>\n",
       "    <tr>\n",
       "      <th>32431</th>\n",
       "      <td>32433</td>\n",
       "      <td>Hamlet</td>\n",
       "      <td>138.0</td>\n",
       "      <td>NaN</td>\n",
       "      <td>CYMBELINE</td>\n",
       "      <td>ACT I</td>\n",
       "    </tr>\n",
       "    <tr>\n",
       "      <th>32432</th>\n",
       "      <td>32434</td>\n",
       "      <td>Hamlet</td>\n",
       "      <td>138.0</td>\n",
       "      <td>NaN</td>\n",
       "      <td>CYMBELINE</td>\n",
       "      <td>SCENE I. Elsinore. A platform before the castle.</td>\n",
       "    </tr>\n",
       "    <tr>\n",
       "      <th>32433</th>\n",
       "      <td>32435</td>\n",
       "      <td>Hamlet</td>\n",
       "      <td>138.0</td>\n",
       "      <td>NaN</td>\n",
       "      <td>CYMBELINE</td>\n",
       "      <td>FRANCISCO at his post. Enter to him BERNARDO</td>\n",
       "    </tr>\n",
       "    <tr>\n",
       "      <th>32434</th>\n",
       "      <td>32436</td>\n",
       "      <td>Hamlet</td>\n",
       "      <td>1.0</td>\n",
       "      <td>1.1.1</td>\n",
       "      <td>BERNARDO</td>\n",
       "      <td>Who's there?</td>\n",
       "    </tr>\n",
       "    <tr>\n",
       "      <th>32435</th>\n",
       "      <td>32437</td>\n",
       "      <td>Hamlet</td>\n",
       "      <td>2.0</td>\n",
       "      <td>1.1.2</td>\n",
       "      <td>FRANCISCO</td>\n",
       "      <td>Nay, answer me: stand, and unfold yourself.</td>\n",
       "    </tr>\n",
       "    <tr>\n",
       "      <th>...</th>\n",
       "      <td>...</td>\n",
       "      <td>...</td>\n",
       "      <td>...</td>\n",
       "      <td>...</td>\n",
       "      <td>...</td>\n",
       "      <td>...</td>\n",
       "    </tr>\n",
       "    <tr>\n",
       "      <th>36670</th>\n",
       "      <td>36672</td>\n",
       "      <td>Hamlet</td>\n",
       "      <td>147.0</td>\n",
       "      <td>5.2.421</td>\n",
       "      <td>PRINCE FORTINBRAS</td>\n",
       "      <td>Speak loudly for him.</td>\n",
       "    </tr>\n",
       "    <tr>\n",
       "      <th>36671</th>\n",
       "      <td>36673</td>\n",
       "      <td>Hamlet</td>\n",
       "      <td>147.0</td>\n",
       "      <td>5.2.422</td>\n",
       "      <td>PRINCE FORTINBRAS</td>\n",
       "      <td>Take up the bodies: such a sight as this</td>\n",
       "    </tr>\n",
       "    <tr>\n",
       "      <th>36672</th>\n",
       "      <td>36674</td>\n",
       "      <td>Hamlet</td>\n",
       "      <td>147.0</td>\n",
       "      <td>5.2.423</td>\n",
       "      <td>PRINCE FORTINBRAS</td>\n",
       "      <td>Becomes the field, but here shows much amiss.</td>\n",
       "    </tr>\n",
       "    <tr>\n",
       "      <th>36673</th>\n",
       "      <td>36675</td>\n",
       "      <td>Hamlet</td>\n",
       "      <td>147.0</td>\n",
       "      <td>5.2.424</td>\n",
       "      <td>PRINCE FORTINBRAS</td>\n",
       "      <td>Go, bid the soldiers shoot.</td>\n",
       "    </tr>\n",
       "    <tr>\n",
       "      <th>36674</th>\n",
       "      <td>36676</td>\n",
       "      <td>Hamlet</td>\n",
       "      <td>147.0</td>\n",
       "      <td>5.2.424</td>\n",
       "      <td>PRINCE FORTINBRAS</td>\n",
       "      <td>A dead march. Exeunt, bearing off the dead bod...</td>\n",
       "    </tr>\n",
       "  </tbody>\n",
       "</table>\n",
       "<p>4244 rows × 6 columns</p>\n",
       "</div>"
      ],
      "text/plain": [
       "       index    play  scene   scene2          character  \\\n",
       "32431  32433  Hamlet  138.0      NaN          CYMBELINE   \n",
       "32432  32434  Hamlet  138.0      NaN          CYMBELINE   \n",
       "32433  32435  Hamlet  138.0      NaN          CYMBELINE   \n",
       "32434  32436  Hamlet    1.0    1.1.1           BERNARDO   \n",
       "32435  32437  Hamlet    2.0    1.1.2          FRANCISCO   \n",
       "...      ...     ...    ...      ...                ...   \n",
       "36670  36672  Hamlet  147.0  5.2.421  PRINCE FORTINBRAS   \n",
       "36671  36673  Hamlet  147.0  5.2.422  PRINCE FORTINBRAS   \n",
       "36672  36674  Hamlet  147.0  5.2.423  PRINCE FORTINBRAS   \n",
       "36673  36675  Hamlet  147.0  5.2.424  PRINCE FORTINBRAS   \n",
       "36674  36676  Hamlet  147.0  5.2.424  PRINCE FORTINBRAS   \n",
       "\n",
       "                                                    text  \n",
       "32431                                              ACT I  \n",
       "32432   SCENE I. Elsinore. A platform before the castle.  \n",
       "32433       FRANCISCO at his post. Enter to him BERNARDO  \n",
       "32434                                       Who's there?  \n",
       "32435        Nay, answer me: stand, and unfold yourself.  \n",
       "...                                                  ...  \n",
       "36670                              Speak loudly for him.  \n",
       "36671           Take up the bodies: such a sight as this  \n",
       "36672      Becomes the field, but here shows much amiss.  \n",
       "36673                        Go, bid the soldiers shoot.  \n",
       "36674  A dead march. Exeunt, bearing off the dead bod...  \n",
       "\n",
       "[4244 rows x 6 columns]"
      ]
     },
     "execution_count": 56,
     "metadata": {},
     "output_type": "execute_result"
    }
   ],
   "source": [
    "grouped_text.get_group('Hamlet')"
   ]
  },
  {
   "cell_type": "code",
   "execution_count": 59,
   "id": "eaebfb86",
   "metadata": {},
   "outputs": [
    {
     "name": "stdout",
     "output_type": "stream",
     "text": [
      "--- 612.3717789649963 seconds ---\n"
     ]
    }
   ],
   "source": [
    "from collections import defaultdict\n",
    "import spacy\n",
    "import time\n",
    "\n",
    "# lowercase and tokenize each play\n",
    "nlp = spacy.load(\"en_core_web_sm\")\n",
    "\n",
    "start = time.time()\n",
    "\n",
    "play_text = defaultdict(str)\n",
    "for play in play_names:\n",
    "    texts = list(grouped_text.get_group(play)['text'])\n",
    "    string = \"\"\n",
    "    for text in texts:\n",
    "        doc = nlp(text.lower())\n",
    "        for token in doc:\n",
    "            if not token.is_punct: \n",
    "                string += token.text + ' '\n",
    "    play_text[play] = string\n",
    "    \n",
    "    \n",
    "print(\"--- %s seconds ---\" % (time.time() - start))"
   ]
  },
  {
   "cell_type": "code",
   "execution_count": 60,
   "id": "5fdadb76",
   "metadata": {},
   "outputs": [],
   "source": [
    "import json\n",
    "\n",
    "# save for later use. preprocess takes so much time...\n",
    "with open('play_text.json', 'w') as f:\n",
    "    json.dump(play_text, f)"
   ]
  },
  {
   "cell_type": "code",
   "execution_count": 42,
   "id": "0ba848a0",
   "metadata": {},
   "outputs": [],
   "source": [
    "from sklearn.feature_extraction.text import CountVectorizer\n",
    "vectorizer = CountVectorizer(vocabulary=vocab)"
   ]
  },
  {
   "cell_type": "code",
   "execution_count": 69,
   "id": "5d943e2b",
   "metadata": {},
   "outputs": [],
   "source": [
    "term_doc = pd.DataFrame(columns=play_names)\n",
    "for play in play_names:\n",
    "    term_doc[play] = vectorizer.fit_transform([play_text[play]]).toarray()[0]\n",
    "term_doc.index = vectorizer.get_feature_names()"
   ]
  },
  {
   "cell_type": "code",
   "execution_count": 88,
   "id": "b1385296",
   "metadata": {
    "scrolled": true
   },
   "outputs": [
    {
     "data": {
      "image/png": "[encoded data removed]",
      "text/plain": [
       "<Figure size 1080x1080 with 1 Axes>"
      ]
     },
     "metadata": {
      "needs_background": "light"
     },
     "output_type": "display_data"
    }
   ],
   "source": [
    "from sklearn.decomposition import PCA\n",
    "import matplotlib.pyplot as plt\n",
    "\n",
    "pca = PCA(n_components=2)\n",
    "result = pca.fit_transform(term_doc.values.T)\n",
    "plt.figure(figsize=(15,15))\n",
    "plt.scatter(result[:, 0], result[:, 1])\n",
    "for i, play in enumerate(play_names):\n",
    "\tplt.annotate(play, xy=(result[i, 0], result[i, 1]))\n",
    "plt.show() "
   ]
  },
  {
   "cell_type": "code",
   "execution_count": 90,
   "id": "0bbd8b4e",
   "metadata": {},
   "outputs": [],
   "source": [
    "from sklearn.feature_extraction.text import TfidfVectorizer\n",
    "\n",
    "tfidf_vectorizer = TfidfVectorizer(vocabulary=vocab)\n",
    "\n",
    "tfidf_term_doc = pd.DataFrame(columns=play_names)\n",
    "for play in play_names:\n",
    "    tfidf_term_doc[play] = tfidf_vectorizer.fit_transform([play_text[play]]).toarray()[0]\n",
    "tfidf_term_doc.index = tfidf_vectorizer.get_feature_names()"
   ]
  },
  {
   "cell_type": "code",
   "execution_count": 91,
   "id": "243f578a",
   "metadata": {},
   "outputs": [
    {
     "data": {
      "image/png": "[encoded data removed]",
      "text/plain": [
       "<Figure size 1080x1080 with 1 Axes>"
      ]
     },
     "metadata": {
      "needs_background": "light"
     },
     "output_type": "display_data"
    }
   ],
   "source": [
    "tfidf_result = pca.fit_transform(tfidf_term_doc.values.T)\n",
    "plt.figure(figsize=(15,15))\n",
    "plt.scatter(tfidf_result[:, 0], tfidf_result[:, 1])\n",
    "for i, play in enumerate(play_names):\n",
    "\tplt.annotate(play, xy=(tfidf_result[i, 0], tfidf_result[i, 1]))\n",
    "plt.show() "
   ]
  },
  {
   "cell_type": "code",
   "execution_count": null,
   "id": "ca79eeaa",
   "metadata": {},
   "outputs": [],
   "source": []
  },
  {
   "cell_type": "code",
   "execution_count": 99,
   "id": "e06b28cf",
   "metadata": {},
   "outputs": [],
   "source": [
    "# Q1.8\n",
    "\n",
    "import re\n",
    "w2v_docs = defaultdict(list) # str: [[\"\", \"\", \"\"], [\"\", \"\"] ...]\n",
    "for play in play_names:\n",
    "    texts = list(grouped_text.get_group(play)['text'])\n",
    "    # lower case and remove punctuations\n",
    "    sents = [re.sub(r'[^\\w\\s]', '', text).lower().split() for text in texts]\n",
    "    w2v_docs[play] = sents"
   ]
  },
  {
   "cell_type": "code",
   "execution_count": 124,
   "id": "d7a7998f",
   "metadata": {},
   "outputs": [],
   "source": [
    "from collections import Counter\n",
    "from gensim.models import Word2Vec\n",
    "import numpy as np\n",
    "\n",
    "w2v_plays = defaultdict() # store averaged word vectors for each play\n",
    "for play in play_names:\n",
    "    # 1. get vocabulary of each play\n",
    "    play_vocab = list(Counter(play_text[play].split()).keys())\n",
    "    w2v_model = Word2Vec(sentences=w2v_docs[play], vector_size=100, min_count=1, workers=4)\n",
    "    avg_vector = []\n",
    "    for word in play_vocab:\n",
    "        try:\n",
    "            v = w2v_model.wv[word]\n",
    "            avg_vector.append(v)\n",
    "        except KeyError: # ignore OOV word\n",
    "            continue\n",
    "    avg_vector = np.mean(np.asarray(avg_vector), axis=0)\n",
    "    w2v_plays[play] = avg_vector"
   ]
  },
  {
   "cell_type": "code",
   "execution_count": 132,
   "id": "3a9051fe",
   "metadata": {},
   "outputs": [
    {
     "name": "stdout",
     "output_type": "stream",
     "text": [
      "comedies_avg_cossim:  0.945728\n"
     ]
    }
   ],
   "source": [
    "from numpy.linalg import norm\n",
    "\n",
    "# compute average pairwise cosine similarities for comedies\n",
    "comedies_plays = ['The Tempest', 'Two Gentlemen of Verona', 'Merry Wives of Windsor', 'Measure for measure',\n",
    "                 'A Comedy of Errors', 'Much Ado about nothing', 'Loves Labours Lost',  'A Midsummer nights dream',\n",
    "                 'Merchant of Venice',  'As you like it',  'Taming of the Shrew', 'Alls well that ends well',\n",
    "                  'Twelfth Night',  'A Winters Tale',  'Pericles']\n",
    "comedies_pairs = [(a, b) for idx, a in enumerate(comedies_plays) for b in comedies_plays[idx + 1:]]\n",
    "comedies_cossim = []\n",
    "for pair in comedies_pairs:\n",
    "    cossim = w2v_plays[pair[0]] @ w2v_plays[pair[1]] / (norm(w2v_plays[pair[0]]) * norm(w2v_plays[pair[1]]))\n",
    "    comedies_cossim.append(cossim)\n",
    "\n",
    "comedies_avg_cossim = np.mean(np.asarray(comedies_cossim), axis=0)\n",
    "print(\"comedies_avg_cossim: \", comedies_avg_cossim)"
   ]
  },
  {
   "cell_type": "code",
   "execution_count": 134,
   "id": "1fcaeb42",
   "metadata": {},
   "outputs": [
    {
     "name": "stdout",
     "output_type": "stream",
     "text": [
      "histories_avg_cossim:  0.93888885\n"
     ]
    }
   ],
   "source": [
    "# compute average pairwise cosine similarities for comedies\n",
    "histories_plays = ['King John',  'Richard II', 'Henry VI Part 2', 'Henry VIII',\n",
    "                  'Henry VI Part 1', 'Henry V',  'Henry VI Part 3',  'Richard III']\n",
    "histories_pairs = [(a, b) for idx, a in enumerate(histories_plays) for b in histories_plays[idx + 1:]]\n",
    "histories_cossim = []\n",
    "for pair in histories_pairs:\n",
    "    cossim = w2v_plays[pair[0]] @ w2v_plays[pair[1]] / (norm(w2v_plays[pair[0]]) * norm(w2v_plays[pair[1]]))\n",
    "    histories_cossim.append(cossim)\n",
    "\n",
    "histories_avg_cossim = np.mean(np.asarray(histories_cossim), axis=0)\n",
    "print(\"histories_avg_cossim: \", histories_avg_cossim)"
   ]
  },
  {
   "cell_type": "code",
   "execution_count": 136,
   "id": "7f6794a4",
   "metadata": {},
   "outputs": [
    {
     "name": "stdout",
     "output_type": "stream",
     "text": [
      "tragedies_avg_cossim:  0.9465048\n"
     ]
    }
   ],
   "source": [
    "# compute average pairwise cosine similarities for comedies\n",
    "tragedies_plays = [ 'Troilus and Cressida', 'Coriolanus', 'Titus Andronicus',  'Romeo and Juliet',\n",
    "                   'Timon of Athens', 'Julius Caesar', 'macbeth', 'Hamlet', 'King Lear',\n",
    "                    'Othello',  'Antony and Cleopatra', 'Cymbeline']\n",
    "tragedies_pairs = [(a, b) for idx, a in enumerate(tragedies_plays) for b in tragedies_plays[idx + 1:]]\n",
    "tragedies_cossim = []\n",
    "for pair in tragedies_pairs:\n",
    "    cossim = w2v_plays[pair[0]] @ w2v_plays[pair[1]] / (norm(w2v_plays[pair[0]]) * norm(w2v_plays[pair[1]]))\n",
    "    tragedies_cossim.append(cossim)\n",
    "\n",
    "tragedies_avg_cossim = np.mean(np.asarray(tragedies_cossim), axis=0)\n",
    "print(\"tragedies_avg_cossim: \", tragedies_avg_cossim)"
   ]
  },
  {
   "cell_type": "code",
   "execution_count": 137,
   "id": "c0f2f39a",
   "metadata": {},
   "outputs": [
    {
     "name": "stdout",
     "output_type": "stream",
     "text": [
      "com_hist_avg_cossim:  0.9421766\n"
     ]
    }
   ],
   "source": [
    "com_hist_pairs = [(a, b) for a in comedies_plays for b in histories_plays]\n",
    "com_hist_cossim = []\n",
    "for pair in com_hist_pairs:\n",
    "    cossim = w2v_plays[pair[0]] @ w2v_plays[pair[1]] / (norm(w2v_plays[pair[0]]) * norm(w2v_plays[pair[1]]))\n",
    "    com_hist_cossim.append(cossim)\n",
    "com_hist_avg_cossim = np.mean(np.asarray(com_hist_cossim), axis=0)\n",
    "print(\"com_hist_avg_cossim: \", com_hist_avg_cossim)"
   ]
  },
  {
   "cell_type": "code",
   "execution_count": 140,
   "id": "ba683a08",
   "metadata": {},
   "outputs": [
    {
     "name": "stdout",
     "output_type": "stream",
     "text": [
      "com_trag_avg_cossim:  0.94653183\n"
     ]
    }
   ],
   "source": [
    "com_trag_pairs = [(a, b) for a in comedies_plays for b in tragedies_plays]\n",
    "com_trag_cossim = []\n",
    "for pair in com_trag_pairs:\n",
    "    cossim = w2v_plays[pair[0]] @ w2v_plays[pair[1]] / (norm(w2v_plays[pair[0]]) * norm(w2v_plays[pair[1]]))\n",
    "    com_trag_cossim.append(cossim)\n",
    "com_trag_avg_cossim = np.mean(np.asarray(com_trag_cossim), axis=0)\n",
    "print(\"com_trag_avg_cossim: \", com_trag_avg_cossim)"
   ]
  },
  {
   "cell_type": "code",
   "execution_count": 141,
   "id": "97c23ed5",
   "metadata": {},
   "outputs": [
    {
     "name": "stdout",
     "output_type": "stream",
     "text": [
      "hist_trag_avg_cossim:  0.9424408\n"
     ]
    }
   ],
   "source": [
    "hist_trag_pairs = [(a, b) for a in histories_plays for b in tragedies_plays]\n",
    "hist_trag_cossim = []\n",
    "for pair in hist_trag_pairs:\n",
    "    cossim = w2v_plays[pair[0]] @ w2v_plays[pair[1]] / (norm(w2v_plays[pair[0]]) * norm(w2v_plays[pair[1]]))\n",
    "    hist_trag_cossim.append(cossim)\n",
    "hist_trag_avg_cossim = np.mean(np.asarray(hist_trag_cossim), axis=0)\n",
    "print(\"hist_trag_avg_cossim: \", hist_trag_avg_cossim)"
   ]
  },
  {
   "cell_type": "code",
   "execution_count": 143,
   "id": "a10d458c",
   "metadata": {},
   "outputs": [
    {
     "data": {
      "application/vnd.jupyter.widget-view+json": {
       "model_id": "a9e78eebe86d4976beb35e59515bd9d0",
       "version_major": 2,
       "version_minor": 0
      },
      "text/plain": [
       "Downloading:   0%|          | 0.00/391 [00:00<?, ?B/s]"
      ]
     },
     "metadata": {},
     "output_type": "display_data"
    },
    {
     "data": {
      "application/vnd.jupyter.widget-view+json": {
       "model_id": "4789a99dd1ed49809b6f42b481b937a1",
       "version_major": 2,
       "version_minor": 0
      },
      "text/plain": [
       "Downloading:   0%|          | 0.00/1.62k [00:00<?, ?B/s]"
      ]
     },
     "metadata": {},
     "output_type": "display_data"
    },
    {
     "data": {
      "application/vnd.jupyter.widget-view+json": {
       "model_id": "d9fd14eb0be04ca1adf82d34752c17d8",
       "version_major": 2,
       "version_minor": 0
      },
      "text/plain": [
       "Downloading:   0%|          | 0.00/804 [00:00<?, ?B/s]"
      ]
     },
     "metadata": {},
     "output_type": "display_data"
    },
    {
     "data": {
      "application/vnd.jupyter.widget-view+json": {
       "model_id": "25b0dcd786754e76a6563753768d1832",
       "version_major": 2,
       "version_minor": 0
      },
      "text/plain": [
       "Downloading:   0%|          | 0.00/122 [00:00<?, ?B/s]"
      ]
     },
     "metadata": {},
     "output_type": "display_data"
    },
    {
     "data": {
      "application/vnd.jupyter.widget-view+json": {
       "model_id": "e318a14293ba4fe6bedcfc35bb678880",
       "version_major": 2,
       "version_minor": 0
      },
      "text/plain": [
       "Downloading:   0%|          | 0.00/461 [00:00<?, ?B/s]"
      ]
     },
     "metadata": {},
     "output_type": "display_data"
    },
    {
     "data": {
      "application/vnd.jupyter.widget-view+json": {
       "model_id": "2395641b0cd14da2b5f2a6fc552ab648",
       "version_major": 2,
       "version_minor": 0
      },
      "text/plain": [
       "Downloading:   0%|          | 0.00/1.88G [00:00<?, ?B/s]"
      ]
     },
     "metadata": {},
     "output_type": "display_data"
    },
    {
     "data": {
      "application/vnd.jupyter.widget-view+json": {
       "model_id": "b648e686805f47e7a9a6185754a95c1b",
       "version_major": 2,
       "version_minor": 0
      },
      "text/plain": [
       "Downloading:   0%|          | 0.00/53.0 [00:00<?, ?B/s]"
      ]
     },
     "metadata": {},
     "output_type": "display_data"
    },
    {
     "data": {
      "application/vnd.jupyter.widget-view+json": {
       "model_id": "5d2b6770f4ee4b72a9c8e6462a22bb99",
       "version_major": 2,
       "version_minor": 0
      },
      "text/plain": [
       "Downloading:   0%|          | 0.00/112 [00:00<?, ?B/s]"
      ]
     },
     "metadata": {},
     "output_type": "display_data"
    },
    {
     "data": {
      "application/vnd.jupyter.widget-view+json": {
       "model_id": "787383db82a84f368839f01caa9edaaf",
       "version_major": 2,
       "version_minor": 0
      },
      "text/plain": [
       "Downloading:   0%|          | 0.00/9.62M [00:00<?, ?B/s]"
      ]
     },
     "metadata": {},
     "output_type": "display_data"
    },
    {
     "data": {
      "application/vnd.jupyter.widget-view+json": {
       "model_id": "e81f6f2b894e46d19a5f42352d6d8c39",
       "version_major": 2,
       "version_minor": 0
      },
      "text/plain": [
       "Downloading:   0%|          | 0.00/411 [00:00<?, ?B/s]"
      ]
     },
     "metadata": {},
     "output_type": "display_data"
    },
    {
     "data": {
      "application/vnd.jupyter.widget-view+json": {
       "model_id": "318dde4117ae4b27987fac34bf436ef5",
       "version_major": 2,
       "version_minor": 0
      },
      "text/plain": [
       "Downloading:   0%|          | 0.00/5.22M [00:00<?, ?B/s]"
      ]
     },
     "metadata": {},
     "output_type": "display_data"
    },
    {
     "data": {
      "application/vnd.jupyter.widget-view+json": {
       "model_id": "226700bc233c4bd1848c192d496058c7",
       "version_major": 2,
       "version_minor": 0
      },
      "text/plain": [
       "Downloading:   0%|          | 0.00/190 [00:00<?, ?B/s]"
      ]
     },
     "metadata": {},
     "output_type": "display_data"
    },
    {
     "data": {
      "application/vnd.jupyter.widget-view+json": {
       "model_id": "ad3c8a1e4d20479abec4c42931297689",
       "version_major": 2,
       "version_minor": 0
      },
      "text/plain": [
       "Downloading:   0%|          | 0.00/114 [00:00<?, ?B/s]"
      ]
     },
     "metadata": {},
     "output_type": "display_data"
    },
    {
     "data": {
      "application/vnd.jupyter.widget-view+json": {
       "model_id": "c30cddd80d944d33bbf395d5f7ca2605",
       "version_major": 2,
       "version_minor": 0
      },
      "text/plain": [
       "Downloading:   0%|          | 0.00/2.36M [00:00<?, ?B/s]"
      ]
     },
     "metadata": {},
     "output_type": "display_data"
    },
    {
     "ename": "NameError",
     "evalue": "name 'model' is not defined",
     "output_type": "error",
     "traceback": [
      "\u001b[0;31m---------------------------------------------------------------------------\u001b[0m",
      "\u001b[0;31mNameError\u001b[0m                                 Traceback (most recent call last)",
      "\u001b[0;32m<ipython-input-143-e6438f949391>\u001b[0m in \u001b[0;36m<module>\u001b[0;34m\u001b[0m\n\u001b[1;32m      2\u001b[0m \u001b[0mLaBSE_model\u001b[0m \u001b[0;34m=\u001b[0m \u001b[0mSentenceTransformer\u001b[0m\u001b[0;34m(\u001b[0m\u001b[0;34m'sentence-transformers/LaBSE'\u001b[0m\u001b[0;34m)\u001b[0m\u001b[0;34m\u001b[0m\u001b[0;34m\u001b[0m\u001b[0m\n\u001b[1;32m      3\u001b[0m \u001b[0msentences\u001b[0m \u001b[0;34m=\u001b[0m \u001b[0;34m[\u001b[0m\u001b[0;34m\"This is an example sentence\"\u001b[0m\u001b[0;34m,\u001b[0m \u001b[0;34m\"Each sentence is converted\"\u001b[0m\u001b[0;34m]\u001b[0m\u001b[0;34m\u001b[0m\u001b[0;34m\u001b[0m\u001b[0m\n\u001b[0;32m----> 4\u001b[0;31m \u001b[0membeddings\u001b[0m \u001b[0;34m=\u001b[0m \u001b[0mmodel\u001b[0m\u001b[0;34m.\u001b[0m\u001b[0mencode\u001b[0m\u001b[0;34m(\u001b[0m\u001b[0msentences\u001b[0m\u001b[0;34m)\u001b[0m\u001b[0;34m\u001b[0m\u001b[0;34m\u001b[0m\u001b[0m\n\u001b[0m\u001b[1;32m      5\u001b[0m \u001b[0mprint\u001b[0m\u001b[0;34m(\u001b[0m\u001b[0membeddings\u001b[0m\u001b[0;34m)\u001b[0m\u001b[0;34m\u001b[0m\u001b[0;34m\u001b[0m\u001b[0m\n",
      "\u001b[0;31mNameError\u001b[0m: name 'model' is not defined"
     ]
    }
   ],
   "source": [
    "# Q1.11\n",
    "from sentence_transformers import SentenceTransformer\n",
    "LaBSE_model = SentenceTransformer('sentence-transformers/LaBSE')\n"
   ]
  },
  {
   "cell_type": "code",
   "execution_count": null,
   "id": "e0d58740",
   "metadata": {},
   "outputs": [],
   "source": [
    "start = time.time()\n",
    "\n",
    "# Get embedding for each play\n",
    "comedies_LaBSE = defaultdict()\n",
    "for play in comedies_plays:\n",
    "    texts = [text.lower() for text in list(grouped_text.get_group(play)['text'])]\n",
    "    LaBSE_embeddings = LaBSE_model.encode(texts)\n",
    "    comedies_avg_LaBSE = np.mean(np.asarray(LaBSE_embeddings), axis=0)\n",
    "    comedies_LaBSE[play] = comedies_avg_LaBSE\n",
    "    \n",
    "# Get pairwise average embeddings\n",
    "comedies_LaBSE_cossim = []\n",
    "for pair in comedies_pairs:\n",
    "    cossim = comedies_LaBSE[pair[0]] @ comedies_LaBSE[pair[1]] / (norm(comedies_LaBSE[pair[0]]) * norm(comedies_LaBSE[pair[1]]))\n",
    "    comedies_LaBSE_cossim.append(cossim)\n",
    "comedies_avg_LaBSE = np.mean(np.asarray(comedies_LaBSE_cossim), axis=0)\n",
    "\n",
    "print(\"comedies_avg_LaBSE: \", comedies_avg_LaBSE)\n",
    "print(\"--- %s seconds ---\" % (time.time() - start))\n"
   ]
  },
  {
   "cell_type": "code",
   "execution_count": 154,
   "id": "ae36dd81",
   "metadata": {},
   "outputs": [
    {
     "name": "stdout",
     "output_type": "stream",
     "text": [
      "Done LaBSE for histories plays.\n",
      "histories_avg_LaBSE:  0.9880056\n",
      "--- 776.8860170841217 seconds ---\n"
     ]
    }
   ],
   "source": [
    "start = time.time()\n",
    "\n",
    "# Get embedding for each play\n",
    "histories_LaBSE = defaultdict()\n",
    "for play in histories_plays:\n",
    "    texts = [re.sub(r'[^\\w\\s]', '', text).lower() for text in list(grouped_text.get_group(play)['text'])]\n",
    "    LaBSE_embeddings = LaBSE_model.encode(texts)\n",
    "    histories_avg_LaBSE = np.mean(np.asarray(LaBSE_embeddings), axis=0)\n",
    "    histories_LaBSE[play] = histories_avg_LaBSE\n",
    "\n",
    "print(\"Done LaBSE for histories plays.\")\n",
    "    \n",
    "# Get pairwise average embeddings\n",
    "histories_LaBSE_cossim = []\n",
    "for pair in histories_pairs:\n",
    "    cossim = histories_LaBSE[pair[0]] @ histories_LaBSE[pair[1]] / (norm(histories_LaBSE[pair[0]]) * norm(histories_LaBSE[pair[1]]))\n",
    "    histories_LaBSE_cossim.append(cossim)\n",
    "    \n",
    "histories_avg_LaBSE = np.mean(np.asarray(histories_LaBSE_cossim), axis=0)\n",
    "\n",
    "print(\"histories_avg_LaBSE: \", histories_avg_LaBSE)\n",
    "print(\"--- %s seconds ---\" % (time.time() - start))"
   ]
  },
  {
   "cell_type": "code",
   "execution_count": null,
   "id": "bdc77f36",
   "metadata": {},
   "outputs": [],
   "source": [
    "start = time.time()\n",
    "\n",
    "# Get embedding for each play\n",
    "tragedies_LaBSE = defaultdict()\n",
    "for play in tragedies_plays:\n",
    "    texts = [re.sub(r'[^\\w\\s]', '', text).lower() for text in list(grouped_text.get_group(play)['text'])]\n",
    "    LaBSE_embeddings = LaBSE_model.encode(texts)\n",
    "    tragedies_avg_LaBSE = np.mean(np.asarray(LaBSE_embeddings), axis=0)\n",
    "    tragedies_LaBSE[play] = tragedies_avg_LaBSE\n",
    "\n",
    "print(\"Done LaBSE for histories plays.\")\n",
    "    \n",
    "# Get pairwise average embeddings\n",
    "tragedies_LaBSE_cossim = []\n",
    "for pair in tragedies_pairs:\n",
    "    cossim = tragedies_LaBSE[pair[0]] @ tragedies_LaBSE[pair[1]] / (norm(tragedies_LaBSE[pair[0]]) * norm(tragedies_LaBSE[pair[1]]))\n",
    "    tragedies_LaBSE_cossim.append(cossim)\n",
    "    \n",
    "tragedies_avg_LaBSE = np.mean(np.asarray(tragedies_LaBSE_cossim), axis=0)\n",
    "\n",
    "print(\"tragedies_avg_LaBSE: \", tragedies_avg_LaBSE)\n",
    "print(\"--- %s seconds ---\" % (time.time() - start))"
   ]
  }
 ],
 "metadata": {
  "kernelspec": {
   "display_name": "Python 3",
   "language": "python",
   "name": "python3"
  },
  "language_info": {
   "codemirror_mode": {
    "name": "ipython",
    "version": 3
   },
   "file_extension": ".py",
   "mimetype": "text/x-python",
   "name": "python",
   "nbconvert_exporter": "python",
   "pygments_lexer": "ipython3",
   "version": "3.8.8"
  }
 },
 "nbformat": 4,
 "nbformat_minor": 5
}
